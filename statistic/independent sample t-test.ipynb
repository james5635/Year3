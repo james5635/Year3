{
 "cells": [
  {
   "cell_type": "markdown",
   "id": "457841a4",
   "metadata": {},
   "source": [
    "# One sample t-test"
   ]
  },
  {
   "cell_type": "markdown",
   "id": "08a96af2",
   "metadata": {},
   "source": [
    "## Two tailed"
   ]
  },
  {
   "cell_type": "markdown",
   "id": "afb598c3",
   "metadata": {},
   "source": [
    "H₀: μ₁ = μ₂   \n",
    "  \n",
    "H₁: μ₁ ≠ μ₂ "
   ]
  },
  {
   "cell_type": "markdown",
   "id": "fafcec4c",
   "metadata": {},
   "source": [
    "## Right tailed"
   ]
  },
  {
   "cell_type": "markdown",
   "id": "7df69909",
   "metadata": {},
   "source": [
    "H₀: μ₁ ≤ μ₂\n",
    "\n",
    "H₁: μ₁ > μ₂"
   ]
  },
  {
   "cell_type": "markdown",
   "id": "1048a851",
   "metadata": {},
   "source": [
    "## Left tailed"
   ]
  },
  {
   "cell_type": "markdown",
   "id": "94bacd5e",
   "metadata": {},
   "source": [
    "H₀: μ₁ ≥ μ₂\n",
    "\n",
    "H₁: μ₁ < μ₂"
   ]
  },
  {
   "cell_type": "markdown",
   "id": "80257e83",
   "metadata": {},
   "source": [
    "## 👉 Code"
   ]
  },
  {
   "cell_type": "code",
   "execution_count": 245,
   "id": "7c0abf56",
   "metadata": {},
   "outputs": [
    {
     "name": "stdout",
     "output_type": "stream",
     "text": [
      "t-statistic: -0.7857862320279004\n",
      "p_value: 0.43519121791956394\n",
      "tailed-lest p_value: 0.21759560895978197\n",
      "tailed-right p_value: 0.7824043910402181\n",
      "Two tailed: ❌ failed to reject H0 (No significant difference)\n",
      "Two tailed: ❌ failed to reject H0\n",
      "Two tailed: ❌ failed to reject H0\n"
     ]
    }
   ],
   "source": [
    "import numpy as np\n",
    "from scipy import stats\n",
    "# group1 = [65, 70, 75,80,85]\n",
    "# group2 = [60, 65, 70,75,80]\n",
    "# group1 = [60, 65, 70,75,80]\n",
    "# group2 = [60, 65, 70,75,80]\n",
    "group1 = np.random.randint(0, 100, 30)\n",
    "group2 = np.random.randint(0, 100, 30)\n",
    "\n",
    "t_stat, p_value = stats.ttest_ind(group1, group2, equal_var=True, alternative=\"two-sided\")\n",
    "_, p_value_tailed_right = stats.ttest_ind(group1,group2, equal_var=True, alternative=\"greater\")\n",
    "_,p_value_tailed_left = stats.ttest_ind(group1, group2, equal_var=True, alternative=\"less\")\n",
    "\n",
    "print(f\"t-statistic: {t_stat}\")\n",
    "print(f\"p_value: {p_value}\")\n",
    "print(f\"tailed-lest p_value: {p_value_tailed_left}\")\n",
    "print(f\"tailed-right p_value: {p_value_tailed_right}\")\n",
    "alpha = 0.05\n",
    "\n",
    "if p_value < alpha:\n",
    "    print(\"Two tailed: ✅ reject H0 (There is significant different)\")\n",
    "else:\n",
    "    print(\"Two tailed: ❌ failed to reject H0 (No significant difference)\")\n",
    "if p_value_tailed_right < alpha:\n",
    "    print(\"Right tailed: ✅ reject H0 (μ₁ is significantly greater than μ₂)\")\n",
    "else:\n",
    "    print(\"Two tailed: ❌ failed to reject H0\")\n",
    "if p_value_tailed_left < alpha:\n",
    "    print(\"Right tailed: ✅ reject H0 (μ₁ is significantly less than μ₂)\")\n",
    "else:\n",
    "    print(\"Two tailed: ❌ failed to reject H0\")\n",
    "\n"
   ]
  }
 ],
 "metadata": {
  "kernelspec": {
   "display_name": ".venv",
   "language": "python",
   "name": "python3"
  },
  "language_info": {
   "codemirror_mode": {
    "name": "ipython",
    "version": 3
   },
   "file_extension": ".py",
   "mimetype": "text/x-python",
   "name": "python",
   "nbconvert_exporter": "python",
   "pygments_lexer": "ipython3",
   "version": "3.13.3"
  }
 },
 "nbformat": 4,
 "nbformat_minor": 5
}
