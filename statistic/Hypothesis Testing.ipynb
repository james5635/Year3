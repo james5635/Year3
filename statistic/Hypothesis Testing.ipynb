{
 "cells": [
  {
   "cell_type": "markdown",
   "id": "81561934",
   "metadata": {},
   "source": [
    "# Hypotheis Testing Exercise"
   ]
  },
  {
   "cell_type": "markdown",
   "id": "c7eda399",
   "metadata": {},
   "source": [
    "## Calculate the p-value:"
   ]
  },
  {
   "cell_type": "markdown",
   "id": "d0c57183",
   "metadata": {},
   "source": [
    "The p-value is calculated based on the chosen distribution and the test statistic value. \n",
    "- Lower-tailed test: p-value = CDF(test statistic). \n",
    "- Upper-tailed test: p-value = 1 - CDF(test statistic). \n",
    "- Two-tailed test: p-value = 2 * min{CDF(test statistic), 1 - CDF(test statistic)}. If the distribution is symmetric around 0, you can simplify this to: p-value = 2 * CDF(-|test statistic|). "
   ]
  },
  {
   "cell_type": "code",
   "execution_count": null,
   "id": "22f21252",
   "metadata": {},
   "outputs": [
    {
     "name": "stdout",
     "output_type": "stream",
     "text": [
      "[('Q1', np.float64(-1.6666666666666667), np.float64(0.09558070454562939), np.False_), ('Q2', np.float64(-2.5), np.float64(0.012419330651552318), np.True_), ('Q3', np.float64(-1.8), np.float64(0.03593031911292579), np.False_), ('Q3', np.float64(-1.8), np.float64(0.03593031911292579), np.False_), ('Q4', np.float64(1.118033988749891), np.float64(0.2635524772829745), np.False_), ('Q5', np.float64(1.9540168418367887), np.float64(0.09162379533890302), np.True_), ('Q6', np.float64(-1.6519512342151643), np.float64(0.9409846004338415), np.False_), ('Q7', np.float64(3.195048252113467), np.float64(0.9993009626793942), np.False_), ('Q8', np.float64(-1.9639610121239295), np.float64(0.9752326932821865), np.False_), ('Q10', np.float64(1.5207949430752485), np.float64(0.1626352860001018), np.False_)]\n"
     ]
    }
   ],
   "source": [
    "import numpy as np\n",
    "from scipy import stats\n",
    "\n",
    "results = []\n",
    "\n",
    "# 1. One-sample z-test\n",
    "n1,mean1,sample_mean1, std_dev1, alpha1 = 25,70,69,3,0.05\n",
    "z1 =(sample_mean1 - mean1)/(std_dev1 / np.sqrt(n1))\n",
    "p1 = 2 * (1 - stats.norm.cdf(abs(z1)))\n",
    "results.append((\"Q1\", z1,p1,p1 < alpha1))\n",
    "\n",
    "# 2. One-sample z-test\n",
    "n2,mean2,sample_mean2, std_dev2, alpha2 = 100, 800,790,40,0.05\n",
    "z2 = (sample_mean2 - mean2) / (std_dev2/np.sqrt(n2))\n",
    "p2 = 2 * (1 - stats.norm.cdf(abs(z2)))\n",
    "results.append((\"Q2\", z2,p2,p2 < alpha2))\n",
    "\n",
    "# 3. One-sample z-test, left-tailed\n",
    "n3,mean3,sample_mean3,std_dev3,alpha3 =  36,1200,1182,60,0.02\n",
    "z3 = (sample_mean3 - mean3) / (std_dev3 / np.sqrt(n3))\n",
    "p3 = stats.norm.cdf(z3)\n",
    "results.append((\"Q3\", z3,p3,p3<alpha3))\n",
    "results.append((\"Q3\",z3,p3, p3 < alpha3))\n",
    "\n",
    "# 4. One-sample z-test\n",
    "n4,mean4,sample_mean4,std_dev4,alpha4 = 20,6,6.05,0.2,0.05\n",
    "z4 = (sample_mean4 -mean4) /(std_dev4 / np.sqrt(n4))\n",
    "p4 = 2 * (1-stats.norm.cdf(abs(z4)))\n",
    "results.append((\"Q4\", z4,p4,p4<alpha4))\n",
    "\n",
    "# 5.One-sample t-test\n",
    "sample5 = [64,57,65,59,66,58,68,67]\n",
    "t5,p5 = stats.ttest_1samp(sample5,popmean=60)\n",
    "results.append((\"Q5\", t5,p5,p5< 0.10))\n",
    "\n",
    "# 6. One-sample t-test (right tailed)\n",
    "sample6 = [392,396,386,309,388,384,403,397,401,391,400,402,394,394,406,406,400]\n",
    "t6,p6 = stats.ttest_1samp(sample6, popmean=400, alternative=\"greater\")\n",
    "results.append((\"Q6\", t6,p6,p6 < 0.05))\n",
    "\n",
    "# 7. One-proportion z-test\n",
    "n7,x7,p0_7,alpha7 = 500,235,0.40,0.05\n",
    "phat7 = x7/n7\n",
    "z7 = (phat7 - p0_7)/np.sqrt(p0_7* (1-p0_7)/n7)\n",
    "p7 = stats.norm.cdf(z7) # left tail\n",
    "results.append((\"Q7\", z7,p7,p7<alpha7))\n",
    "\n",
    "# 8. One-proportion z-test\n",
    "n8,x8,p0_8, alpha8 = 900,243,0.30,0.05\n",
    "phat8 = x8/n8\n",
    "z8 = (phat8-p0_8) /np.sqrt(p0_8 * (1-p0_8)/n8)\n",
    "p8 = 1-stats.norm.cdf(z8)\n",
    "results.append((\"Q8\",z8,p8,p8<alpha8))\n",
    "\n",
    "# 9. Paired t-test\n",
    "s1 = [64,66,89,77]\n",
    "s2 = [62,68,85,82]\n",
    "t9,p9 = stats.ttest_rel(s1,s2)\n",
    "\n",
    "# 10. Paired t-test\n",
    "s1_10 = [68,65,66,66,67,66,66,64,69,63]\n",
    "s2_10 = [65,62,64,65,65,4,59,63,65,58]\n",
    "t10, p10 =stats.ttest_rel(s1_10, s2_10)\n",
    "results.append((\"Q10\",t10,p10,p10<0.05))\n",
    "\n",
    "print(results)"
   ]
  },
  {
   "cell_type": "code",
   "execution_count": 18,
   "id": "5f60ab4a",
   "metadata": {},
   "outputs": [
    {
     "name": "stdout",
     "output_type": "stream",
     "text": [
      "x_bar = 391.11764705882354\n",
      "s = 22.169467610153543\n",
      "t = -1.6519512342151643\n",
      "p_value = 0.9409846004338414\n"
     ]
    }
   ],
   "source": [
    "import numpy as np\n",
    "from scipy import stats\n",
    "mu_0 = 400\n",
    "n = 17\n",
    "sample_data = [392, 396, 386, 309, 388, 384, 403, 397, 401, 391, 400, 402, 394, 394, 406, 406, 400]\n",
    "alpha = 0.05\n",
    "x_bar = sum(sample_data)/n\n",
    "print(f\"x_bar = {x_bar}\")\n",
    "\n",
    "s = np.sqrt(sum([pow(i - x_bar, 2) for i in sample_data])/(n-1))\n",
    "print(f\"s = {s}\")\n",
    "\n",
    "t = (x_bar-mu_0) / (s/np.sqrt(n))\n",
    "print(f\"t = {t}\")\n",
    "\n",
    "p_value =  1 - stats.t.cdf(t, n-1)\n",
    "print(f\"p_value = {p_value}\")"
   ]
  },
  {
   "cell_type": "code",
   "execution_count": 22,
   "id": "e1045a43",
   "metadata": {},
   "outputs": [
    {
     "name": "stdout",
     "output_type": "stream",
     "text": [
      " phat = 0.47\n",
      "z = 3.195048252113467\n",
      " p_value = 0.0006990373206058331\n"
     ]
    }
   ],
   "source": [
    "n7, x7, p0_7, alpha7 = 500, 235, 0.40, 0.05\n",
    "phat7 = x7 / n7\n",
    "print(f\" phat = {phat7}\")\n",
    "z7 = (phat7 - p0_7) / np.sqrt(p0_7 * (1 - p0_7) / n7)\n",
    "print(f\"z = {z7}\")\n",
    "p7 = 1 - stats.norm.cdf(z7)  \n",
    "print(f\" p_value = {p7}\")"
   ]
  },
  {
   "cell_type": "code",
   "execution_count": null,
   "id": "0fd87bf3",
   "metadata": {},
   "outputs": [
    {
     "name": "stdout",
     "output_type": "stream",
     "text": [
      " phat = 0.27\n",
      "z = -1.9639610121239295\n",
      " p_value = 0.9752326932821865\n"
     ]
    }
   ],
   "source": [
    "n8,x8,p0_8, alpha8 = 900,243,0.30,0.05\n",
    "phat8 = x8/n8\n",
    "print(f\" phat = {phat8}\")\n",
    "\n",
    "z8 = (phat8-p0_8) /np.sqrt(p0_8 * (1-p0_8)/n8)\n",
    "print(f\"z = {z8}\")\n",
    "\n",
    "p8 = 1-stats.norm.cdf(z8)\n",
    "print(f\" p_value = {p8}\")\n"
   ]
  },
  {
   "cell_type": "code",
   "execution_count": 35,
   "id": "cabdc4ee",
   "metadata": {},
   "outputs": [
    {
     "name": "stdout",
     "output_type": "stream",
     "text": [
      "d_bar = -0.25\n",
      "s_d = 4.031128874149275\n",
      "t = -0.12403473458920847\n",
      "p_value = 0.90913171228949\n"
     ]
    }
   ],
   "source": [
    "import numpy as np\n",
    "from scipy import stats\n",
    "s1 = [64,66,89,77]\n",
    "s2 = [62,68,85,82]\n",
    "n = 4\n",
    "d = [a - b for a,b in zip (s1,s2)]\n",
    "d_bar = sum(d) / n\n",
    "print(f\"d_bar = {d_bar}\")\n",
    "s_d = np.sqrt(sum([pow(i - d_bar,2) for i in d]) / (n -1))\n",
    "print(f\"s_d = {s_d}\")\n",
    "t = (d_bar - 0) / (s_d /np.sqrt(n))\n",
    "print(f\"t = {t}\")\n",
    "p_value = 2 * (1 - stats.t.cdf(abs(t), n-1))\n",
    "print(f\"p_value = {p_value}\")\n"
   ]
  },
  {
   "cell_type": "code",
   "execution_count": 38,
   "id": "d6ba8714",
   "metadata": {},
   "outputs": [
    {
     "name": "stdout",
     "output_type": "stream",
     "text": [
      "d_bar = 3.0\n",
      "s_d = 1.8856180831641267\n",
      "t = 5.031152949374528\n",
      "p_value = 0.0007082552579338319\n"
     ]
    }
   ],
   "source": [
    "import numpy as np\n",
    "from scipy import stats\n",
    "s1 = [68,65,66,66,67,66,66,64,69,63]\n",
    "s2 = [65,62,64,65,65,64,59,63,65,58]\n",
    "n = 10\n",
    "d = [a - b for a,b in zip (s1,s2)]\n",
    "d_bar = sum(d) / n\n",
    "print(f\"d_bar = {d_bar}\")\n",
    "s_d = np.sqrt(sum([pow(i - d_bar,2) for i in d]) / (n -1))\n",
    "print(f\"s_d = {s_d}\")\n",
    "t = (d_bar - 0) / (s_d /np.sqrt(n))\n",
    "print(f\"t = {t}\")\n",
    "p_value = 2 * (1 - stats.t.cdf(abs(t), n-1))\n",
    "print(f\"p_value = {p_value}\")\n"
   ]
  },
  {
   "cell_type": "code",
   "execution_count": 1,
   "id": "11cd7ae3",
   "metadata": {},
   "outputs": [
    {
     "name": "stdout",
     "output_type": "stream",
     "text": [
      "1.6448536269514722\n",
      "0.95\n"
     ]
    }
   ],
   "source": [
    "from scipy.stats import norm\n",
    "print(norm.ppf(0.95))\n",
    "print(norm.cdf(1.6448536269514722))"
   ]
  }
 ],
 "metadata": {
  "kernelspec": {
   "display_name": ".venv",
   "language": "python",
   "name": "python3"
  },
  "language_info": {
   "codemirror_mode": {
    "name": "ipython",
    "version": 3
   },
   "file_extension": ".py",
   "mimetype": "text/x-python",
   "name": "python",
   "nbconvert_exporter": "python",
   "pygments_lexer": "ipython3",
   "version": "3.13.3"
  }
 },
 "nbformat": 4,
 "nbformat_minor": 5
}
