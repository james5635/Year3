{
 "cells": [
  {
   "cell_type": "markdown",
   "id": "ce22e0b7",
   "metadata": {},
   "source": [
    "# Paird sample t-test"
   ]
  },
  {
   "cell_type": "markdown",
   "id": "24f9a5cf",
   "metadata": {},
   "source": [
    "## Two tailed"
   ]
  },
  {
   "cell_type": "markdown",
   "id": "2cfc5097",
   "metadata": {
    "vscode": {
     "languageId": "plaintext"
    }
   },
   "source": [
    "H₀: μ₁ = μ₂   \n",
    "H₁: μ₁ ≠ μ₂"
   ]
  },
  {
   "cell_type": "markdown",
   "id": "4f9f3510",
   "metadata": {},
   "source": [
    "## Left tailed"
   ]
  },
  {
   "cell_type": "markdown",
   "id": "eec215f6",
   "metadata": {},
   "source": [
    "H₀: μ₁ ≤ μ₂  \n",
    "H₁: μ₁ > μ₂"
   ]
  },
  {
   "cell_type": "markdown",
   "id": "6ec70b7e",
   "metadata": {},
   "source": [
    "## Left tailed"
   ]
  },
  {
   "cell_type": "markdown",
   "id": "3f36e094",
   "metadata": {},
   "source": [
    "H₀: μ₁ ≥ μ₂   \n",
    "H₁: μ₁ < μ₂"
   ]
  },
  {
   "cell_type": "markdown",
   "id": "9c2075e9",
   "metadata": {},
   "source": [
    "## 👉 Code"
   ]
  },
  {
   "cell_type": "code",
   "execution_count": 129,
   "id": "1df40918",
   "metadata": {},
   "outputs": [
    {
     "name": "stdout",
     "output_type": "stream",
     "text": [
      "[70.45866692 63.15533009 62.48612103 61.87305653 65.29141787 62.67854834\n",
      " 67.01001407 64.15560782 68.22878645 67.85645089 56.97044889 68.1819518\n",
      " 60.85105663 66.50322136 63.24247537 68.42140951 59.99418222 56.32057936\n",
      " 54.95448863 62.5084213  70.06222156 70.71698953 71.92332054 68.22355496\n",
      " 57.43445369 57.32817656 68.4362949  64.48809299 62.7436299  59.27394478]\n",
      "[72.98786906 61.7208273  62.53590769 65.01562262 58.87168652 74.38714473\n",
      " 67.89560374 56.56719887 61.93823795 68.02363922 56.49229287 66.45293659\n",
      " 63.12153678 65.95720092 59.62127311 74.74551361 52.53957972 62.77169463\n",
      " 47.80036263 71.71730812 66.31848821 75.66738918 72.54526849 70.31740558\n",
      " 63.58643073 63.54471063 75.09107436 61.1899442  57.84448749 50.2078424 ]\n",
      "t-statistic: -0.1901606954733833\n",
      "p_value: 0.8505080840273456\n",
      "tailed-lest p_value: 0.4252540420136728\n",
      "tailed-right p_value: 0.5747459579863272\n",
      "Two tailed: ❌ failed to reject H₀\n",
      "Two tailed: ❌ failed to reject H₀\n",
      "Two tailed: ❌ failed to reject H₀\n"
     ]
    }
   ],
   "source": [
    "import numpy as np\n",
    "from scipy import stats\n",
    "\n",
    "before = np.random.normal(loc=65, scale=5, size=30)\n",
    "after = before +  np.random.normal(loc=2, scale=5, size=30)  # mean difference ~2\n",
    "print(before)\n",
    "print(after)\n",
    "\n",
    "t_stat, p_value = stats.ttest_rel(before, after, alternative=\"two-sided\")\n",
    "_, p_value_tailed_right = stats.ttest_rel(before, after, alternative=\"greater\")\n",
    "_, p_value_tailed_left = stats.ttest_rel(before, after, alternative=\"less\")\n",
    "\n",
    "print(f\"t-statistic: {t_stat}\")\n",
    "print(f\"p_value: {p_value}\")\n",
    "print(f\"tailed-lest p_value: {p_value_tailed_left}\")\n",
    "print(f\"tailed-right p_value: {p_value_tailed_right}\")\n",
    "alpha = 0.05\n",
    "\n",
    "if p_value < alpha:\n",
    "    print(\"Two tailed: ✅ Reject H₀ (Means are significantly different.)\")\n",
    "else:\n",
    "    print(\"Two tailed: ❌ failed to reject H₀\")\n",
    "if p_value_tailed_right < alpha:\n",
    "    print(\"Two tailed: ✅ Reject H₀ ( μ₁ is significantly greater than μ₂)\")\n",
    "else:\n",
    "    print(\"Two tailed: ❌ failed to reject H₀\")\n",
    "if p_value_tailed_right < alpha:\n",
    "    print(\"Two tailed: ✅ Reject H₀ ( μ₁ is significantly less than μ₂)\")\n",
    "else:\n",
    "    print(\"Two tailed: ❌ failed to reject H₀\")\n"
   ]
  }
 ],
 "metadata": {
  "kernelspec": {
   "display_name": ".venv",
   "language": "python",
   "name": "python3"
  },
  "language_info": {
   "codemirror_mode": {
    "name": "ipython",
    "version": 3
   },
   "file_extension": ".py",
   "mimetype": "text/x-python",
   "name": "python",
   "nbconvert_exporter": "python",
   "pygments_lexer": "ipython3",
   "version": "3.13.3"
  }
 },
 "nbformat": 4,
 "nbformat_minor": 5
}
